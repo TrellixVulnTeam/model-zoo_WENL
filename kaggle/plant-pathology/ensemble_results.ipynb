{
 "cells": [
  {
   "cell_type": "code",
   "execution_count": 1,
   "metadata": {},
   "outputs": [],
   "source": [
    "import pandas as pd"
   ]
  },
  {
   "cell_type": "code",
   "execution_count": 5,
   "metadata": {},
   "outputs": [],
   "source": [
    "noisy_student_b0 = pd.read_csv('./noisy-student-b0.csv')\n",
    "noisy_student_b1 = pd.read_csv('./noisy-student-b1.csv')\n",
    "noisy_student_b2 = pd.read_csv('./noisy-student-b2.csv')\n",
    "noisy_student_b3 = pd.read_csv('./noisy-student-b3.csv')\n",
    "noisy_student_b4 = pd.read_csv('./noisy-student-b4.csv')\n",
    "# noisy_student_b5 = pd.read_csv('./noisy-student-b5.csv')\n",
    "# noisy_student_b6 = pd.read_csv('./noisy-student-b6.csv')\n",
    "noisy_student_b7 = pd.read_csv('./noisy-student-b7.csv')"
   ]
  },
  {
   "cell_type": "code",
   "execution_count": 8,
   "metadata": {},
   "outputs": [
    {
     "data": {
      "text/html": [
       "<div>\n",
       "<style scoped>\n",
       "    .dataframe tbody tr th:only-of-type {\n",
       "        vertical-align: middle;\n",
       "    }\n",
       "\n",
       "    .dataframe tbody tr th {\n",
       "        vertical-align: top;\n",
       "    }\n",
       "\n",
       "    .dataframe thead th {\n",
       "        text-align: right;\n",
       "    }\n",
       "</style>\n",
       "<table border=\"1\" class=\"dataframe\">\n",
       "  <thead>\n",
       "    <tr style=\"text-align: right;\">\n",
       "      <th></th>\n",
       "      <th>image_id</th>\n",
       "      <th>healthy</th>\n",
       "      <th>multiple_diseases</th>\n",
       "      <th>rust</th>\n",
       "      <th>scab</th>\n",
       "    </tr>\n",
       "  </thead>\n",
       "  <tbody>\n",
       "    <tr>\n",
       "      <th>0</th>\n",
       "      <td>Test_0</td>\n",
       "      <td>1.825972e-06</td>\n",
       "      <td>1.970987e-04</td>\n",
       "      <td>9.997939e-01</td>\n",
       "      <td>7.180894e-06</td>\n",
       "    </tr>\n",
       "    <tr>\n",
       "      <th>1</th>\n",
       "      <td>Test_1</td>\n",
       "      <td>2.788777e-07</td>\n",
       "      <td>7.164234e-07</td>\n",
       "      <td>9.999989e-01</td>\n",
       "      <td>1.723180e-07</td>\n",
       "    </tr>\n",
       "    <tr>\n",
       "      <th>2</th>\n",
       "      <td>Test_2</td>\n",
       "      <td>3.115087e-15</td>\n",
       "      <td>1.331646e-13</td>\n",
       "      <td>1.760170e-15</td>\n",
       "      <td>1.000000e+00</td>\n",
       "    </tr>\n",
       "    <tr>\n",
       "      <th>3</th>\n",
       "      <td>Test_3</td>\n",
       "      <td>1.000000e+00</td>\n",
       "      <td>2.468078e-09</td>\n",
       "      <td>1.418559e-08</td>\n",
       "      <td>1.156881e-10</td>\n",
       "    </tr>\n",
       "    <tr>\n",
       "      <th>4</th>\n",
       "      <td>Test_4</td>\n",
       "      <td>1.321528e-13</td>\n",
       "      <td>2.027679e-12</td>\n",
       "      <td>1.000000e+00</td>\n",
       "      <td>4.704733e-22</td>\n",
       "    </tr>\n",
       "  </tbody>\n",
       "</table>\n",
       "</div>"
      ],
      "text/plain": [
       "  image_id       healthy  multiple_diseases          rust          scab\n",
       "0   Test_0  1.825972e-06       1.970987e-04  9.997939e-01  7.180894e-06\n",
       "1   Test_1  2.788777e-07       7.164234e-07  9.999989e-01  1.723180e-07\n",
       "2   Test_2  3.115087e-15       1.331646e-13  1.760170e-15  1.000000e+00\n",
       "3   Test_3  1.000000e+00       2.468078e-09  1.418559e-08  1.156881e-10\n",
       "4   Test_4  1.321528e-13       2.027679e-12  1.000000e+00  4.704733e-22"
      ]
     },
     "execution_count": 8,
     "metadata": {},
     "output_type": "execute_result"
    }
   ],
   "source": [
    "noisy_student_b0.head()"
   ]
  },
  {
   "cell_type": "code",
   "execution_count": 11,
   "metadata": {},
   "outputs": [
    {
     "data": {
      "text/html": [
       "<div>\n",
       "<style scoped>\n",
       "    .dataframe tbody tr th:only-of-type {\n",
       "        vertical-align: middle;\n",
       "    }\n",
       "\n",
       "    .dataframe tbody tr th {\n",
       "        vertical-align: top;\n",
       "    }\n",
       "\n",
       "    .dataframe thead th {\n",
       "        text-align: right;\n",
       "    }\n",
       "</style>\n",
       "<table border=\"1\" class=\"dataframe\">\n",
       "  <thead>\n",
       "    <tr style=\"text-align: right;\">\n",
       "      <th></th>\n",
       "      <th>image_id</th>\n",
       "      <th>healthy</th>\n",
       "      <th>multiple_diseases</th>\n",
       "      <th>rust</th>\n",
       "      <th>scab</th>\n",
       "    </tr>\n",
       "  </thead>\n",
       "  <tbody>\n",
       "    <tr>\n",
       "      <th>0</th>\n",
       "      <td>Test_0</td>\n",
       "      <td>1.355278e-06</td>\n",
       "      <td>1.111037e-03</td>\n",
       "      <td>9.988782e-01</td>\n",
       "      <td>9.359274e-06</td>\n",
       "    </tr>\n",
       "    <tr>\n",
       "      <th>1</th>\n",
       "      <td>Test_1</td>\n",
       "      <td>4.788295e-08</td>\n",
       "      <td>1.082346e-05</td>\n",
       "      <td>9.999887e-01</td>\n",
       "      <td>4.676430e-07</td>\n",
       "    </tr>\n",
       "    <tr>\n",
       "      <th>2</th>\n",
       "      <td>Test_2</td>\n",
       "      <td>1.243461e-09</td>\n",
       "      <td>5.996927e-08</td>\n",
       "      <td>6.324219e-08</td>\n",
       "      <td>9.999999e-01</td>\n",
       "    </tr>\n",
       "    <tr>\n",
       "      <th>3</th>\n",
       "      <td>Test_3</td>\n",
       "      <td>9.999944e-01</td>\n",
       "      <td>6.001977e-08</td>\n",
       "      <td>3.795738e-06</td>\n",
       "      <td>1.778770e-06</td>\n",
       "    </tr>\n",
       "    <tr>\n",
       "      <th>4</th>\n",
       "      <td>Test_4</td>\n",
       "      <td>1.930697e-05</td>\n",
       "      <td>6.374928e-04</td>\n",
       "      <td>9.993244e-01</td>\n",
       "      <td>1.879356e-05</td>\n",
       "    </tr>\n",
       "  </tbody>\n",
       "</table>\n",
       "</div>"
      ],
      "text/plain": [
       "  image_id       healthy  multiple_diseases          rust          scab\n",
       "0   Test_0  1.355278e-06       1.111037e-03  9.988782e-01  9.359274e-06\n",
       "1   Test_1  4.788295e-08       1.082346e-05  9.999887e-01  4.676430e-07\n",
       "2   Test_2  1.243461e-09       5.996927e-08  6.324219e-08  9.999999e-01\n",
       "3   Test_3  9.999944e-01       6.001977e-08  3.795738e-06  1.778770e-06\n",
       "4   Test_4  1.930697e-05       6.374928e-04  9.993244e-01  1.879356e-05"
      ]
     },
     "execution_count": 11,
     "metadata": {},
     "output_type": "execute_result"
    }
   ],
   "source": [
    "ensemble1 = noisy_student_b2.copy()\n",
    "ensemble1.iloc[:, 1:] = noisy_student_b2.iloc[:, 1:] * 0.25 + \\\n",
    "        noisy_student_b3.iloc[:, 1:] * 0.5 + \\\n",
    "        noisy_student_b4.iloc[:, 1:] * 0.25\n",
    "\n",
    "ensemble1.to_csv('ensemble1.csv', index=False)\n",
    "ensemble1.head()"
   ]
  },
  {
   "cell_type": "code",
   "execution_count": 12,
   "metadata": {},
   "outputs": [
    {
     "name": "stdout",
     "output_type": "stream",
     "text": [
      "100%|████████████████████████████████████████| 168k/168k [00:05<00:00, 29.5kB/s]\n",
      "Successfully submitted to Plant Pathology 2020 - FGVC7"
     ]
    }
   ],
   "source": [
    "!kaggle competitions submit -c plant-pathology-2020-fgvc7 -f ensemble1.csv -m \"ensemble b2 b3 b4\""
   ]
  },
  {
   "cell_type": "code",
   "execution_count": 15,
   "metadata": {},
   "outputs": [
    {
     "data": {
      "text/html": [
       "<div>\n",
       "<style scoped>\n",
       "    .dataframe tbody tr th:only-of-type {\n",
       "        vertical-align: middle;\n",
       "    }\n",
       "\n",
       "    .dataframe tbody tr th {\n",
       "        vertical-align: top;\n",
       "    }\n",
       "\n",
       "    .dataframe thead th {\n",
       "        text-align: right;\n",
       "    }\n",
       "</style>\n",
       "<table border=\"1\" class=\"dataframe\">\n",
       "  <thead>\n",
       "    <tr style=\"text-align: right;\">\n",
       "      <th></th>\n",
       "      <th>image_id</th>\n",
       "      <th>healthy</th>\n",
       "      <th>multiple_diseases</th>\n",
       "      <th>rust</th>\n",
       "      <th>scab</th>\n",
       "    </tr>\n",
       "  </thead>\n",
       "  <tbody>\n",
       "    <tr>\n",
       "      <th>0</th>\n",
       "      <td>Test_0</td>\n",
       "      <td>1.781876e-06</td>\n",
       "      <td>1.335188e-03</td>\n",
       "      <td>9.986510e-01</td>\n",
       "      <td>1.195588e-05</td>\n",
       "    </tr>\n",
       "    <tr>\n",
       "      <th>1</th>\n",
       "      <td>Test_1</td>\n",
       "      <td>8.569965e-08</td>\n",
       "      <td>1.295411e-05</td>\n",
       "      <td>9.999866e-01</td>\n",
       "      <td>3.490707e-07</td>\n",
       "    </tr>\n",
       "    <tr>\n",
       "      <th>2</th>\n",
       "      <td>Test_2</td>\n",
       "      <td>1.314869e-09</td>\n",
       "      <td>2.369532e-07</td>\n",
       "      <td>2.538672e-08</td>\n",
       "      <td>9.999997e-01</td>\n",
       "    </tr>\n",
       "    <tr>\n",
       "      <th>3</th>\n",
       "      <td>Test_3</td>\n",
       "      <td>9.999974e-01</td>\n",
       "      <td>3.138262e-08</td>\n",
       "      <td>1.575294e-06</td>\n",
       "      <td>9.675856e-07</td>\n",
       "    </tr>\n",
       "    <tr>\n",
       "      <th>4</th>\n",
       "      <td>Test_4</td>\n",
       "      <td>1.078234e-05</td>\n",
       "      <td>3.423128e-04</td>\n",
       "      <td>9.996393e-01</td>\n",
       "      <td>7.537953e-06</td>\n",
       "    </tr>\n",
       "  </tbody>\n",
       "</table>\n",
       "</div>"
      ],
      "text/plain": [
       "  image_id       healthy  multiple_diseases          rust          scab\n",
       "0   Test_0  1.781876e-06       1.335188e-03  9.986510e-01  1.195588e-05\n",
       "1   Test_1  8.569965e-08       1.295411e-05  9.999866e-01  3.490707e-07\n",
       "2   Test_2  1.314869e-09       2.369532e-07  2.538672e-08  9.999997e-01\n",
       "3   Test_3  9.999974e-01       3.138262e-08  1.575294e-06  9.675856e-07\n",
       "4   Test_4  1.078234e-05       3.423128e-04  9.996393e-01  7.537953e-06"
      ]
     },
     "execution_count": 15,
     "metadata": {},
     "output_type": "execute_result"
    }
   ],
   "source": [
    "ensemble2 = noisy_student_b0.copy()\n",
    "ensemble2.iloc[:, 1:] = noisy_student_b0.iloc[:, 1:] * 0.1 + \\\n",
    "        noisy_student_b1.iloc[:, 1:] * 0.1 + \\\n",
    "        noisy_student_b2.iloc[:, 1:] * 0.3 + \\\n",
    "        noisy_student_b3.iloc[:, 1:] * 0.2 + \\\n",
    "        noisy_student_b4.iloc[:, 1:] * 0.3\n",
    "\n",
    "ensemble2.to_csv('ensemble2.csv', index=False)\n",
    "ensemble2.head()"
   ]
  },
  {
   "cell_type": "code",
   "execution_count": 16,
   "metadata": {},
   "outputs": [
    {
     "name": "stdout",
     "output_type": "stream",
     "text": [
      "100%|████████████████████████████████████████| 168k/168k [00:06<00:00, 25.0kB/s]\n",
      "Successfully submitted to Plant Pathology 2020 - FGVC7"
     ]
    }
   ],
   "source": [
    "!kaggle competitions submit -c plant-pathology-2020-fgvc7 -f ensemble2.csv -m \"ensemble b0 b1 b2 b3 b4\""
   ]
  },
  {
   "cell_type": "code",
   "execution_count": 18,
   "metadata": {},
   "outputs": [],
   "source": [
    "custom_model_result = pd.read_csv('./others/submission-custom-model.csv')\n",
    "densenet_result = pd.read_csv('./others/submission_densenet.csv')\n",
    "efficientnet_result = pd.read_csv('./others/submission_efficientnet.csv')"
   ]
  },
  {
   "cell_type": "code",
   "execution_count": 19,
   "metadata": {},
   "outputs": [
    {
     "data": {
      "text/html": [
       "<div>\n",
       "<style scoped>\n",
       "    .dataframe tbody tr th:only-of-type {\n",
       "        vertical-align: middle;\n",
       "    }\n",
       "\n",
       "    .dataframe tbody tr th {\n",
       "        vertical-align: top;\n",
       "    }\n",
       "\n",
       "    .dataframe thead th {\n",
       "        text-align: right;\n",
       "    }\n",
       "</style>\n",
       "<table border=\"1\" class=\"dataframe\">\n",
       "  <thead>\n",
       "    <tr style=\"text-align: right;\">\n",
       "      <th></th>\n",
       "      <th>image_id</th>\n",
       "      <th>healthy</th>\n",
       "      <th>multiple_diseases</th>\n",
       "      <th>rust</th>\n",
       "      <th>scab</th>\n",
       "    </tr>\n",
       "  </thead>\n",
       "  <tbody>\n",
       "    <tr>\n",
       "      <th>0</th>\n",
       "      <td>Test_0</td>\n",
       "      <td>0.000006</td>\n",
       "      <td>0.002997</td>\n",
       "      <td>9.872574e-01</td>\n",
       "      <td>0.000002</td>\n",
       "    </tr>\n",
       "    <tr>\n",
       "      <th>1</th>\n",
       "      <td>Test_1</td>\n",
       "      <td>0.000131</td>\n",
       "      <td>0.092988</td>\n",
       "      <td>8.964461e-01</td>\n",
       "      <td>0.000527</td>\n",
       "    </tr>\n",
       "    <tr>\n",
       "      <th>2</th>\n",
       "      <td>Test_2</td>\n",
       "      <td>0.000007</td>\n",
       "      <td>0.000119</td>\n",
       "      <td>2.605106e-08</td>\n",
       "      <td>0.907374</td>\n",
       "    </tr>\n",
       "    <tr>\n",
       "      <th>3</th>\n",
       "      <td>Test_3</td>\n",
       "      <td>0.907470</td>\n",
       "      <td>0.000010</td>\n",
       "      <td>4.649046e-06</td>\n",
       "      <td>0.000011</td>\n",
       "    </tr>\n",
       "    <tr>\n",
       "      <th>4</th>\n",
       "      <td>Test_4</td>\n",
       "      <td>0.000002</td>\n",
       "      <td>0.009458</td>\n",
       "      <td>9.806242e-01</td>\n",
       "      <td>0.000004</td>\n",
       "    </tr>\n",
       "  </tbody>\n",
       "</table>\n",
       "</div>"
      ],
      "text/plain": [
       "  image_id   healthy  multiple_diseases          rust      scab\n",
       "0   Test_0  0.000006           0.002997  9.872574e-01  0.000002\n",
       "1   Test_1  0.000131           0.092988  8.964461e-01  0.000527\n",
       "2   Test_2  0.000007           0.000119  2.605106e-08  0.907374\n",
       "3   Test_3  0.907470           0.000010  4.649046e-06  0.000011\n",
       "4   Test_4  0.000002           0.009458  9.806242e-01  0.000004"
      ]
     },
     "execution_count": 19,
     "metadata": {},
     "output_type": "execute_result"
    }
   ],
   "source": [
    "ensemble3 = custom_model_result.copy()\n",
    "ensemble3.iloc[:, 1:] = custom_model_result.iloc[:, 1:] * 0.33 + \\\n",
    "        densenet_result.iloc[:, 1:] * 0.33 + \\\n",
    "        efficientnet_result.iloc[:, 1:] * 0.33\n",
    "\n",
    "ensemble3.to_csv('ensemble3.csv', index=False)\n",
    "ensemble3.head()"
   ]
  },
  {
   "cell_type": "code",
   "execution_count": 20,
   "metadata": {},
   "outputs": [
    {
     "name": "stdout",
     "output_type": "stream",
     "text": [
      "100%|████████████████████████████████████████| 166k/166k [00:05<00:00, 28.7kB/s]\n",
      "Successfully submitted to Plant Pathology 2020 - FGVC7"
     ]
    }
   ],
   "source": [
    "!kaggle competitions submit -c plant-pathology-2020-fgvc7 -f ensemble3.csv -m \"ensemble others result\""
   ]
  },
  {
   "cell_type": "code",
   "execution_count": 22,
   "metadata": {},
   "outputs": [
    {
     "data": {
      "text/html": [
       "<div>\n",
       "<style scoped>\n",
       "    .dataframe tbody tr th:only-of-type {\n",
       "        vertical-align: middle;\n",
       "    }\n",
       "\n",
       "    .dataframe tbody tr th {\n",
       "        vertical-align: top;\n",
       "    }\n",
       "\n",
       "    .dataframe thead th {\n",
       "        text-align: right;\n",
       "    }\n",
       "</style>\n",
       "<table border=\"1\" class=\"dataframe\">\n",
       "  <thead>\n",
       "    <tr style=\"text-align: right;\">\n",
       "      <th></th>\n",
       "      <th>image_id</th>\n",
       "      <th>healthy</th>\n",
       "      <th>multiple_diseases</th>\n",
       "      <th>rust</th>\n",
       "      <th>scab</th>\n",
       "    </tr>\n",
       "  </thead>\n",
       "  <tbody>\n",
       "    <tr>\n",
       "      <th>0</th>\n",
       "      <td>Test_0</td>\n",
       "      <td>0.000004</td>\n",
       "      <td>0.002166</td>\n",
       "      <td>9.929542e-01</td>\n",
       "      <td>0.000007</td>\n",
       "    </tr>\n",
       "    <tr>\n",
       "      <th>1</th>\n",
       "      <td>Test_1</td>\n",
       "      <td>0.000065</td>\n",
       "      <td>0.046500</td>\n",
       "      <td>9.482164e-01</td>\n",
       "      <td>0.000264</td>\n",
       "    </tr>\n",
       "    <tr>\n",
       "      <th>2</th>\n",
       "      <td>Test_2</td>\n",
       "      <td>0.000003</td>\n",
       "      <td>0.000060</td>\n",
       "      <td>2.571889e-08</td>\n",
       "      <td>0.953687</td>\n",
       "    </tr>\n",
       "    <tr>\n",
       "      <th>3</th>\n",
       "      <td>Test_3</td>\n",
       "      <td>0.953734</td>\n",
       "      <td>0.000005</td>\n",
       "      <td>3.112170e-06</td>\n",
       "      <td>0.000006</td>\n",
       "    </tr>\n",
       "    <tr>\n",
       "      <th>4</th>\n",
       "      <td>Test_4</td>\n",
       "      <td>0.000007</td>\n",
       "      <td>0.004900</td>\n",
       "      <td>9.901318e-01</td>\n",
       "      <td>0.000006</td>\n",
       "    </tr>\n",
       "  </tbody>\n",
       "</table>\n",
       "</div>"
      ],
      "text/plain": [
       "  image_id   healthy  multiple_diseases          rust      scab\n",
       "0   Test_0  0.000004           0.002166  9.929542e-01  0.000007\n",
       "1   Test_1  0.000065           0.046500  9.482164e-01  0.000264\n",
       "2   Test_2  0.000003           0.000060  2.571889e-08  0.953687\n",
       "3   Test_3  0.953734           0.000005  3.112170e-06  0.000006\n",
       "4   Test_4  0.000007           0.004900  9.901318e-01  0.000006"
      ]
     },
     "execution_count": 22,
     "metadata": {},
     "output_type": "execute_result"
    }
   ],
   "source": [
    "ensemble4 = ensemble3.copy()\n",
    "ensemble4.iloc[:, 1:] = ensemble3.iloc[:, 1:] * 0.5 + \\\n",
    "        ensemble2.iloc[:, 1:] * 0.5\n",
    "\n",
    "ensemble4.to_csv('ensemble4.csv', index=False)\n",
    "ensemble4.head()"
   ]
  },
  {
   "cell_type": "code",
   "execution_count": 24,
   "metadata": {},
   "outputs": [
    {
     "name": "stdout",
     "output_type": "stream",
     "text": [
      "100%|████████████████████████████████████████| 166k/166k [00:06<00:00, 24.8kB/s]\n",
      "Successfully submitted to Plant Pathology 2020 - FGVC7"
     ]
    }
   ],
   "source": [
    "!kaggle competitions submit -c plant-pathology-2020-fgvc7 -f ensemble4.csv -m \"combine result from ensemble 2, 3\" "
   ]
  },
  {
   "cell_type": "code",
   "execution_count": 25,
   "metadata": {},
   "outputs": [
    {
     "data": {
      "text/html": [
       "<div>\n",
       "<style scoped>\n",
       "    .dataframe tbody tr th:only-of-type {\n",
       "        vertical-align: middle;\n",
       "    }\n",
       "\n",
       "    .dataframe tbody tr th {\n",
       "        vertical-align: top;\n",
       "    }\n",
       "\n",
       "    .dataframe thead th {\n",
       "        text-align: right;\n",
       "    }\n",
       "</style>\n",
       "<table border=\"1\" class=\"dataframe\">\n",
       "  <thead>\n",
       "    <tr style=\"text-align: right;\">\n",
       "      <th></th>\n",
       "      <th>image_id</th>\n",
       "      <th>healthy</th>\n",
       "      <th>multiple_diseases</th>\n",
       "      <th>rust</th>\n",
       "      <th>scab</th>\n",
       "    </tr>\n",
       "  </thead>\n",
       "  <tbody>\n",
       "    <tr>\n",
       "      <th>0</th>\n",
       "      <td>Test_0</td>\n",
       "      <td>0.000004</td>\n",
       "      <td>0.001230</td>\n",
       "      <td>9.979369e-01</td>\n",
       "      <td>0.000004</td>\n",
       "    </tr>\n",
       "    <tr>\n",
       "      <th>1</th>\n",
       "      <td>Test_1</td>\n",
       "      <td>0.000041</td>\n",
       "      <td>0.014305</td>\n",
       "      <td>9.843049e-01</td>\n",
       "      <td>0.000086</td>\n",
       "    </tr>\n",
       "    <tr>\n",
       "      <th>2</th>\n",
       "      <td>Test_2</td>\n",
       "      <td>0.000001</td>\n",
       "      <td>0.000028</td>\n",
       "      <td>5.853202e-08</td>\n",
       "      <td>0.786095</td>\n",
       "    </tr>\n",
       "    <tr>\n",
       "      <th>3</th>\n",
       "      <td>Test_3</td>\n",
       "      <td>0.786077</td>\n",
       "      <td>0.000002</td>\n",
       "      <td>1.125638e-05</td>\n",
       "      <td>0.000022</td>\n",
       "    </tr>\n",
       "    <tr>\n",
       "      <th>4</th>\n",
       "      <td>Test_4</td>\n",
       "      <td>0.000005</td>\n",
       "      <td>0.001887</td>\n",
       "      <td>9.968275e-01</td>\n",
       "      <td>0.000010</td>\n",
       "    </tr>\n",
       "  </tbody>\n",
       "</table>\n",
       "</div>"
      ],
      "text/plain": [
       "  image_id   healthy  multiple_diseases          rust      scab\n",
       "0   Test_0  0.000004           0.001230  9.979369e-01  0.000004\n",
       "1   Test_1  0.000041           0.014305  9.843049e-01  0.000086\n",
       "2   Test_2  0.000001           0.000028  5.853202e-08  0.786095\n",
       "3   Test_3  0.786077           0.000002  1.125638e-05  0.000022\n",
       "4   Test_4  0.000005           0.001887  9.968275e-01  0.000010"
      ]
     },
     "execution_count": 25,
     "metadata": {},
     "output_type": "execute_result"
    }
   ],
   "source": [
    "ensemble5 = custom_model_result.copy()\n",
    "ensemble5.iloc[:, 1:] = custom_model_result.iloc[:, 1:] * 0.8 + \\\n",
    "        ensemble4.iloc[:, 1:] * 0.1 + \\\n",
    "        ensemble3.iloc[:, 1:] * 0.1\n",
    "\n",
    "ensemble5.to_csv('ensemble5.csv', index=False)\n",
    "ensemble5.head()"
   ]
  },
  {
   "cell_type": "code",
   "execution_count": 26,
   "metadata": {},
   "outputs": [
    {
     "name": "stdout",
     "output_type": "stream",
     "text": [
      "100%|████████████████████████████████████████| 167k/167k [00:06<00:00, 25.8kB/s]\n",
      "Successfully submitted to Plant Pathology 2020 - FGVC7"
     ]
    }
   ],
   "source": [
    "!kaggle competitions submit -c plant-pathology-2020-fgvc7 -f ensemble5.csv -m \"combine result from ensemble\" "
   ]
  },
  {
   "cell_type": "code",
   "execution_count": null,
   "metadata": {},
   "outputs": [],
   "source": []
  }
 ],
 "metadata": {
  "kernelspec": {
   "display_name": "Python 3",
   "language": "python",
   "name": "python3"
  },
  "language_info": {
   "codemirror_mode": {
    "name": "ipython",
    "version": 3
   },
   "file_extension": ".py",
   "mimetype": "text/x-python",
   "name": "python",
   "nbconvert_exporter": "python",
   "pygments_lexer": "ipython3",
   "version": "3.6.9"
  }
 },
 "nbformat": 4,
 "nbformat_minor": 4
}
